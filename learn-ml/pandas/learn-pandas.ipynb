{
 "metadata": {
  "language_info": {
   "codemirror_mode": {
    "name": "ipython",
    "version": 3
   },
   "file_extension": ".py",
   "mimetype": "text/x-python",
   "name": "python",
   "nbconvert_exporter": "python",
   "pygments_lexer": "ipython3",
   "version": "3.8.5-final"
  },
  "orig_nbformat": 2,
  "kernelspec": {
   "name": "python38564bitf5810ddc37894aa886f097d4968d7f34",
   "display_name": "Python 3.8.5 64-bit",
   "language": "python"
  }
 },
 "nbformat": 4,
 "nbformat_minor": 2,
 "cells": [
  {
   "cell_type": "code",
   "execution_count": 15,
   "metadata": {},
   "outputs": [
    {
     "output_type": "stream",
     "name": "stdout",
     "text": [
      "   CustomerID   Genre  Age  Annual Income (k$)  Spending Score (1-100)\n0           1    Male   19                  15                      39\n1           2    Male   21                  15                      81\n2           3  Female   20                  16                       6\n3           4  Female   23                  16                      77\n4           5  Female   31                  17                      40\nIndex(['CustomerID', 'Genre', 'Age', 'Annual Income (k$)',\n       'Spending Score (1-100)'],\n      dtype='object')\n"
     ]
    }
   ],
   "source": [
    "import pandas as pd\n",
    "\n",
    "\n",
    "data = pd.read_csv('../data/shopping_data.csv')\n",
    "print(data.head())\n",
    "print(data.columns)\n"
   ]
  },
  {
   "cell_type": "code",
   "execution_count": 4,
   "metadata": {},
   "outputs": [
    {
     "output_type": "stream",
     "name": "stdout",
     "text": [
      "Index(['CustomerID', 'Genre', 'Age', 'Annual Income (k$)',\n       'Spending Score (1-100)'],\n      dtype='object')\n"
     ]
    }
   ],
   "source": [
    "import pandas as pd \n",
    "\n",
    "data = pd.read_csv('../data/shopping_data.csv')\n",
    "print(data.columns)"
   ]
  },
  {
   "cell_type": "code",
   "execution_count": 7,
   "metadata": {},
   "outputs": [
    {
     "output_type": "stream",
     "name": "stdout",
     "text": [
      "0      19\n1      21\n2      20\n3      23\n4      31\n       ..\n195    35\n196    45\n197    32\n198    32\n199    30\nName: Age, Length: 200, dtype: int64\n"
     ]
    }
   ],
   "source": [
    "import pandas as pd \n",
    "\n",
    "data = pd.read_csv('../data/shopping_data.csv')\n",
    "print(data['Age'])"
   ]
  },
  {
   "cell_type": "code",
   "execution_count": 9,
   "metadata": {},
   "outputs": [
    {
     "output_type": "stream",
     "name": "stdout",
     "text": [
      "CustomerID                   125\nGenre                     Female\nAge                           23\nAnnual Income (k$)            70\nSpending Score (1-100)        29\nName: 124, dtype: object\n"
     ]
    }
   ],
   "source": [
    "import pandas as pd \n",
    "\n",
    "data = pd.read_csv('../data/shopping_data.csv')\n",
    "print(data.iloc[124])"
   ]
  },
  {
   "cell_type": "code",
   "execution_count": 13,
   "metadata": {},
   "outputs": [
    {
     "output_type": "stream",
     "name": "stdout",
     "text": [
      "Female\nResult\n   CustomerID   Genre  Age  Annual Income (k$)  Spending Score (1-100)\n0           1    Male   19                  15                      39\n1           2    Male   21                  15                      81\n2           3  Female   20                  16                       6\n3           4  Female   23                  16                      77\n4           5  Female   31                  17                      40\n"
     ]
    }
   ],
   "source": [
    "import pandas as pd \n",
    "\n",
    "data = pd.read_csv('../data/shopping_data.csv')\n",
    "print(data['Genre'].iloc[124])\n",
    "print('Result')\n",
    "print(data.head())"
   ]
  },
  {
   "cell_type": "code",
   "execution_count": 14,
   "metadata": {},
   "outputs": [
    {
     "output_type": "stream",
     "name": "stdout",
     "text": [
      "9     30\n10    67\n11    35\n12    58\n13    24\n14    37\n15    22\n16    35\n17    20\nName: Age, dtype: int64\n"
     ]
    }
   ],
   "source": [
    "import pandas as pd \n",
    "\n",
    "data = pd.read_csv('../data/shopping_data.csv')\n",
    "print(data['Age'].iloc[9:18])"
   ]
  },
  {
   "cell_type": "code",
   "execution_count": 25,
   "metadata": {},
   "outputs": [
    {
     "output_type": "stream",
     "name": "stdout",
     "text": [
      "        CustomerID   Genre         Age  Annual Income (k$)  \\\ncount   200.000000     200  200.000000          200.000000   \nunique         NaN       2         NaN                 NaN   \ntop            NaN  Female         NaN                 NaN   \nfreq           NaN     112         NaN                 NaN   \nmean    100.500000     NaN   38.850000           60.560000   \nstd      57.879185     NaN   13.969007           26.264721   \nmin       1.000000     NaN   18.000000           15.000000   \n25%      50.750000     NaN   28.750000           41.500000   \n50%     100.500000     NaN   36.000000           61.500000   \n75%     150.250000     NaN   49.000000           78.000000   \nmax     200.000000     NaN   70.000000          137.000000   \n\n        Spending Score (1-100)  \ncount               200.000000  \nunique                     NaN  \ntop                        NaN  \nfreq                       NaN  \nmean                 50.200000  \nstd                  25.823522  \nmin                   1.000000  \n25%                  34.750000  \n50%                  50.000000  \n75%                  73.000000  \nmax                  99.000000  \n       CustomerID         Age  Annual Income (k$)  Spending Score (1-100)\ncount  200.000000  200.000000          200.000000              200.000000\nmean   100.500000   38.850000           60.560000               50.200000\nstd     57.879185   13.969007           26.264721               25.823522\nmin      1.000000   18.000000           15.000000                1.000000\n25%     50.750000   28.750000           41.500000               34.750000\n50%    100.500000   36.000000           61.500000               50.000000\n75%    150.250000   49.000000           78.000000               73.000000\nmax    200.000000   70.000000          137.000000               99.000000\n"
     ]
    }
   ],
   "source": [
    "import pandas as pd \n",
    "\n",
    "data = pd.read_csv('../data/shopping_data.csv')\n",
    "# age = data['Age'].iloc[21]\n",
    "# print(data.head())\n",
    "print(data.describe(include='all'))\n",
    "print(data.describe(exclude=['O']))"
   ]
  },
  {
   "cell_type": "code",
   "execution_count": null,
   "metadata": {},
   "outputs": [],
   "source": []
  }
 ]
}