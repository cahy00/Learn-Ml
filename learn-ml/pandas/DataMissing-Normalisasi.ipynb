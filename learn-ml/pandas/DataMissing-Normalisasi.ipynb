{
 "metadata": {
  "language_info": {
   "codemirror_mode": {
    "name": "ipython",
    "version": 3
   },
   "file_extension": ".py",
   "mimetype": "text/x-python",
   "name": "python",
   "nbconvert_exporter": "python",
   "pygments_lexer": "ipython3",
   "version": "3.8.5-final"
  },
  "orig_nbformat": 2,
  "kernelspec": {
   "name": "python38564bitf5810ddc37894aa886f097d4968d7f34",
   "display_name": "Python 3.8.5 64-bit",
   "language": "python"
  }
 },
 "nbformat": 4,
 "nbformat_minor": 2,
 "cells": [
  {
   "cell_type": "code",
   "execution_count": 15,
   "metadata": {},
   "outputs": [
    {
     "output_type": "stream",
     "name": "stdout",
     "text": [
      "False\n"
     ]
    }
   ],
   "source": [
    "import pandas as pd \n",
    "\n",
    "data = pd.read_csv('../data/shopping_data.csv')\n",
    "print(data.isnull().values.any())"
   ]
  },
  {
   "cell_type": "code",
   "execution_count": 10,
   "metadata": {},
   "outputs": [
    {
     "output_type": "stream",
     "name": "stdout",
     "text": [
      "CustomerID                100.50\nAge                        38.85\nAnnual Income (k$)         60.56\nSpending Score (1-100)     50.20\ndtype: float64\n38.85\n"
     ]
    }
   ],
   "source": [
    "import pandas as pd \n",
    "\n",
    "data = pd.read_csv('../data/shopping_data.csv')\n",
    "check = data['Age'].mean()\n",
    "print(data.mean())\n",
    "print(check)\n"
   ]
  },
  {
   "cell_type": "code",
   "execution_count": 17,
   "metadata": {},
   "outputs": [
    {
     "output_type": "stream",
     "name": "stdout",
     "text": [
      "CustomerID                100.50\nAge                        38.85\nAnnual Income (k$)         60.56\nSpending Score (1-100)     50.20\ndtype: float64\nResult Missing\n   CustomerID   Genre  Age  Annual Income (k$)  Spending Score (1-100)\n0           1    Male   19                  15                      39\n1           2    Male   21                  15                      81\n2           3  Female   20                  16                       6\n3           4  Female   23                  16                      77\n4           5  Female   31                  17                      40\nResult non-Missing\n   CustomerID   Genre  Age  Annual Income (k$)  Spending Score (1-100)\n0           1    Male   19                  15                      39\n1           2    Male   21                  15                      81\n2           3  Female   20                  16                       6\n3           4  Female   23                  16                      77\n4           5  Female   31                  17                      40\n"
     ]
    }
   ],
   "source": [
    "import pandas as pd \n",
    "\n",
    "data = pd.read_csv('../data/shopping_data.csv')\n",
    "print(data.mean())\n",
    "print('Result Missing')\n",
    "print(data.head())\n",
    "\n",
    "print('Result non-Missing')\n",
    "data=data.fillna(data.mean())\n",
    "print(data.head())"
   ]
  },
  {
   "cell_type": "code",
   "execution_count": 23,
   "metadata": {},
   "outputs": [
    {
     "output_type": "stream",
     "name": "stdout",
     "text": [
      "CustomerID                100.5\nAge                        36.0\nAnnual Income (k$)         62.0\nSpending Score (1-100)     50.0\ndtype: float64\n   CustomerID   Genre   Age  Annual Income (k$)  Spending Score (1-100)\n0           1    Male  19.0                15.0                    39.0\n1           2    Male  36.0                15.0                    81.0\n2           3  Female  20.0                62.0                     6.0\n3           4  Female  23.0                16.0                    77.0\n4           5  Female  31.0                17.0                    50.0\n"
     ]
    }
   ],
   "source": [
    "import pandas as pd \n",
    "\n",
    "data = pd.read_csv('https://storage.googleapis.com/dqlab-dataset/shopping_data_missingvalue.csv')\n",
    "print(data.median())\n",
    "\n",
    "data = data.fillna(data.median())\n",
    "print(data.head())\n",
    "\n",
    "print(data.head(10).values.any())"
   ]
  },
  {
   "cell_type": "code",
   "execution_count": 3,
   "metadata": {},
   "outputs": [
    {
     "output_type": "stream",
     "name": "stdout",
     "text": [
      "data kotor\n   CustomerID   Genre   Age  Annual Income (k$)  Spending Score (1-100)\n0           1    Male  19.0                15.0                    39.0\n1           2    Male   NaN                15.0                    81.0\n2           3  Female  20.0                 NaN                     6.0\n3           4  Female  23.0                16.0                    77.0\n4           5  Female  31.0                17.0                     NaN\n5           6  Female  22.0                 NaN                    76.0\n6           7  Female  35.0                18.0                     6.0\n7           8  Female  23.0                18.0                    94.0\n8           9    Male  64.0                19.0                     NaN\n9          10  Female  30.0                19.0                    72.0\ndata bersih menggunakan median\n   CustomerID   Genre   Age  Annual Income (k$)  Spending Score (1-100)\n0           1    Male  19.0                15.0                    39.0\n1           2    Male  36.0                15.0                    81.0\n2           3  Female  20.0                62.0                     6.0\n3           4  Female  23.0                16.0                    77.0\n4           5  Female  31.0                17.0                    50.0\n5           6  Female  22.0                62.0                    76.0\n6           7  Female  35.0                18.0                     6.0\n7           8  Female  23.0                18.0                    94.0\n8           9    Male  64.0                19.0                    50.0\n9          10  Female  30.0                19.0                    72.0\ndata bersih menggunakan mean\n   CustomerID   Genre   Age  Annual Income (k$)  Spending Score (1-100)\n0           1    Male  19.0                15.0                    39.0\n1           2    Male  36.0                15.0                    81.0\n2           3  Female  20.0                62.0                     6.0\n3           4  Female  23.0                16.0                    77.0\n4           5  Female  31.0                17.0                    50.0\n5           6  Female  22.0                62.0                    76.0\n6           7  Female  35.0                18.0                     6.0\n7           8  Female  23.0                18.0                    94.0\n8           9    Male  64.0                19.0                    50.0\n9          10  Female  30.0                19.0                    72.0\nFalse\n"
     ]
    }
   ],
   "source": [
    "import pandas as pd \n",
    "\n",
    "data = pd.read_csv('https://storage.googleapis.com/dqlab-dataset/shopping_data_missingvalue.csv')\n",
    "print('data kotor')\n",
    "print(data.head(10))\n",
    "\n",
    "print('data bersih menggunakan median')\n",
    "data = data.fillna(data.median())\n",
    "print(data.head(10))\n",
    "\n",
    "\n",
    "print('data bersih menggunakan mean')\n",
    "data = data.fillna(data.mean())\n",
    "print(data.head(10))\n",
    "print(data.isnull().values.any())"
   ]
  },
  {
   "cell_type": "code",
   "execution_count": 14,
   "metadata": {},
   "outputs": [
    {
     "output_type": "stream",
     "name": "stdout",
     "text": [
      "data sebelum di normalisasi\n  Customer ID   Genre Age Annual Income Spending Score\n0           1    Male  19            15             39\n1           2    Male  21            15             81\n2           3  Female  20            16              6\n3           4  Female  23            16             77\n4           5  Female  31            17             40\n5           6  Female  22            17             76\n6           7  Female  35            18              6\n7           8  Female  23            18             94\n8           9    Male  64            19              3\n9          10  Female  30            19             72\ndata sesudah di normalisasi\n        Age  Annual Income  Spending Score Customer ID   Genre\n0  0.019231       0.000000        0.387755           1    Male\n1  0.057692       0.000000        0.816327           2    Male\n2  0.038462       0.008197        0.051020           3  Female\n3  0.096154       0.008197        0.775510           4  Female\n4  0.250000       0.016393        0.397959           5  Female\n5  0.076923       0.016393        0.765306           6  Female\n6  0.326923       0.024590        0.051020           7  Female\n7  0.096154       0.024590        0.948980           8  Female\n8  0.884615       0.032787        0.020408           9    Male\n9  0.230769       0.032787        0.724490          10  Female\n"
     ]
    }
   ],
   "source": [
    "import numpy as np \n",
    "import pandas as pd\n",
    "from sklearn import preprocessing\n",
    "\n",
    "data = pd.read_csv('../data/shopping_data.csv')\n",
    "array = data.values\n",
    "\n",
    "X = array[:,2:5]\n",
    "Y = array[:,0:1]\n",
    "\n",
    "dataset = pd.DataFrame({\n",
    "    'Customer ID' : array[:,0],\n",
    "    'Genre' : array[:,1],\n",
    "    'Age'   : array[:,2],\n",
    "    'Annual Income' : array[:,3],\n",
    "    'Spending Score' : array[:,4]\n",
    "})\n",
    "print('data sebelum di normalisasi')\n",
    "print(dataset.head(10))\n",
    "\n",
    "#normalisasi\n",
    "min_max_scaler = preprocessing.MinMaxScaler(feature_range=(0,1))\n",
    "data = min_max_scaler.fit_transform(X)\n",
    "dataset = pd.DataFrame({\n",
    "    'Age'   : data[:,0],\n",
    "    'Annual Income' : data[:,1],\n",
    "    'Spending Score' : data[:,2],\n",
    "    'Customer ID' : array[:,0],\n",
    "    'Genre' : array[:,1]\n",
    "})\n",
    "print('data sesudah di normalisasi')\n",
    "print(dataset.head(10))\n",
    "\n",
    "\n"
   ]
  },
  {
   "cell_type": "code",
   "execution_count": null,
   "metadata": {},
   "outputs": [],
   "source": []
  }
 ]
}